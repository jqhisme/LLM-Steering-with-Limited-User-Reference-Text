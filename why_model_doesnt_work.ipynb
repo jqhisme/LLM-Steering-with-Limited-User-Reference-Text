{
 "cells": [
  {
   "cell_type": "code",
   "execution_count": 70,
   "id": "823272db-0fcc-4e5e-9373-40dc4778f093",
   "metadata": {},
   "outputs": [
    {
     "name": "stdout",
     "output_type": "stream",
     "text": [
      "Train set size: 20746\n"
     ]
    }
   ],
   "source": [
    "import numpy as np\n",
    "import matplotlib.pyplot as plt\n",
    "from sae_lens import SAE, HookedSAETransformer\n",
    "import torch\n",
    "from torch import nn\n",
    "from transformers import BertModel, BertTokenizer\n",
    "from tqdm import tqdm\n",
    "import json\n",
    "\n",
    "with open(\"synth_data_v2.json\",\"r\") as f:\n",
    "    corpse = json.loads(f.read())\n",
    "trainset = []\n",
    "for i in corpse:\n",
    "    try:\n",
    "        trainset.append(json.loads(i)['text'])\n",
    "    except:\n",
    "        continue\n",
    "print(f\"Train set size: {len(trainset)}\")"
   ]
  },
  {
   "cell_type": "code",
   "execution_count": 71,
   "id": "d42aab9a-50b6-4990-904c-6f981fae43a0",
   "metadata": {},
   "outputs": [],
   "source": [
    "# model\n",
    "class FASG_Model(nn.Module):\n",
    "    def __init__(self,device=\"cuda:0\"):\n",
    "        super(FASG_Model, self).__init__()\n",
    "\n",
    "        self.device = device\n",
    "        self.bertTokenizer = BertTokenizer.from_pretrained('bert-base-uncased')\n",
    "        self.bertModel = BertModel.from_pretrained(\"bert-base-uncased\").to(self.device)\n",
    "        self.linear = torch.nn.Linear(768, 768).to(self.device)\n",
    "        self.llm = HookedSAETransformer.from_pretrained(\"gpt2-small\", device=self.device)\n",
    "        self.sae, cfg_dict, sparsity = SAE.from_pretrained(\n",
    "            release=\"gpt2-small-res-jb-feature-splitting\",  \n",
    "            sae_id=\"blocks.8.hook_resid_pre_768\", \n",
    "            device=self.device,\n",
    "        )\n",
    "        self.top_p = 0.95\n",
    "        self.temperature = 0.2\n",
    "        \n",
    "    def bert_tokenize(self,text):\n",
    "        return self.bertTokenizer(text,padding=True,truncation=True,return_tensors=\"pt\").to(device = self.device)\n",
    "        \n",
    "    def forward(self, encoded_input,prompt,return_type = \"str\"):\n",
    "        steering_vector = self.bertModel(**encoded_input).pooler_output\n",
    "\n",
    "        def steering_features(value, hook,steering_vector = steering_vector,steering_weights = 4):\n",
    "            #encoded_activation = self.sae.encode(value)\n",
    "            #steered_vector = steering_vector.unsqueeze(1)*encoded_activation \n",
    "            delta_activation = self.sae.decode(steering_vector)\n",
    "\n",
    "            steered_activation = delta_activation.unsqueeze(1)*steering_weights + value\n",
    "            \n",
    "            return steered_activation\n",
    "    \n",
    "        fwd_hooks=[(\n",
    "            'blocks.8.hook_resid_pre', \n",
    "            steering_features\n",
    "        )]\n",
    "\n",
    "        tokenized_prompt = self.llm.to_tokens(prompt)\n",
    "        with self.llm.hooks(fwd_hooks=fwd_hooks):\n",
    "            steered_tokens = self.llm.generate(\n",
    "            tokenized_prompt,\n",
    "            max_new_tokens=64,\n",
    "            temperature=self.temperature,\n",
    "            top_p=self.top_p,\n",
    "            stop_at_eos = True,\n",
    "            return_type = return_type,\n",
    "            verbose = False\n",
    "        )\n",
    "        return steered_tokens\n",
    "\n",
    "    def llm_generate(self,prompt,return_type = \"str\"):\n",
    "        tokenized_prompt = self.llm.to_tokens(prompt)\n",
    "        generated_tokens = self.llm.generate(\n",
    "            tokenized_prompt,\n",
    "            max_new_tokens=64,\n",
    "            temperature=self.temperature,\n",
    "            top_p=self.top_p,\n",
    "            stop_at_eos = True,\n",
    "            return_type = return_type,\n",
    "            verbose = False\n",
    "        )\n",
    "        return generated_tokens\n",
    "        \n",
    "\n",
    "    def freeze_llm_and_sae(self):\n",
    "        for param in self.llm.parameters():\n",
    "            param.requires_grad = False\n",
    "        for param in self.sae.parameters():\n",
    "            param.requires_grad = False\n"
   ]
  },
  {
   "cell_type": "code",
   "execution_count": 72,
   "id": "6159bbbf-9a5c-4783-a11e-f48d0777e989",
   "metadata": {},
   "outputs": [
    {
     "name": "stdout",
     "output_type": "stream",
     "text": [
      "Loaded pretrained model gpt2-small into HookedTransformer\n"
     ]
    },
    {
     "data": {
      "text/plain": [
       "'Yeah, but most folks think'"
      ]
     },
     "execution_count": 72,
     "metadata": {},
     "output_type": "execute_result"
    }
   ],
   "source": [
    "model = FASG_Model()\n",
    "sample = trainset[5]\n",
    "\n",
    "reference_text = sample\n",
    "prompt = \" \".join(sample.split(\" \")[:5])\n",
    "prompt"
   ]
  },
  {
   "cell_type": "code",
   "execution_count": 73,
   "id": "04f4cfea-053b-48a4-8206-8eccccc67545",
   "metadata": {},
   "outputs": [
    {
     "data": {
      "text/plain": [
       "\"Yeah, but most folks think that's a good thing.\\n\\nI'm not sure what you're talking about.\\n\\nI'm not sure what you're talking about.\\n\\nI'm not sure what you're talking about.\\n\\nI'm not sure what you're talking about.\\n\\nI'm not sure what you're talking\""
      ]
     },
     "execution_count": 73,
     "metadata": {},
     "output_type": "execute_result"
    }
   ],
   "source": [
    "model.llm_generate(prompt)"
   ]
  },
  {
   "cell_type": "code",
   "execution_count": 74,
   "id": "483f8f61-c140-44ea-99f8-dd9205102c75",
   "metadata": {},
   "outputs": [
    {
     "ename": "NameError",
     "evalue": "name 'steering_vector' is not defined",
     "output_type": "error",
     "traceback": [
      "\u001b[0;31m---------------------------------------------------------------------------\u001b[0m",
      "\u001b[0;31mNameError\u001b[0m                                 Traceback (most recent call last)",
      "Cell \u001b[0;32mIn[74], line 1\u001b[0m\n\u001b[0;32m----> 1\u001b[0m \u001b[38;5;28;01mdef\u001b[39;00m \u001b[38;5;21msteering_features\u001b[39m(value, hook,steering_vector \u001b[38;5;241m=\u001b[39m \u001b[43msteering_vector\u001b[49m):\n\u001b[1;32m      2\u001b[0m     out \u001b[38;5;241m=\u001b[39m value \u001b[38;5;241m+\u001b[39m \u001b[38;5;241m0.1\u001b[39m\u001b[38;5;241m*\u001b[39msteering_vector\u001b[38;5;241m.\u001b[39munsqueeze(\u001b[38;5;241m1\u001b[39m)\n\u001b[1;32m      3\u001b[0m     \u001b[38;5;28;01mreturn\u001b[39;00m out\n",
      "\u001b[0;31mNameError\u001b[0m: name 'steering_vector' is not defined"
     ]
    }
   ],
   "source": [
    "def steering_features(value, hook,steering_vector = steering_vector):\n",
    "    out = value + 0.1*steering_vector.unsqueeze(1)\n",
    "    return out\n",
    "\n",
    "fwd_hooks=[(\n",
    "    'blocks.8.hook_resid_pre', \n",
    "    steering_features\n",
    ")]\n",
    "\n",
    "tokenized_prompt = model.llm.to_tokens(prompt)\n",
    "with model.llm.hooks(fwd_hooks=fwd_hooks):\n",
    "    steered = model.llm.generate(\n",
    "    tokenized_prompt,\n",
    "    max_new_tokens=64,\n",
    "    temperature=0.2,\n",
    "    top_p=0.95,\n",
    "    stop_at_eos = True,\n",
    "    return_type = \"str\",\n",
    "    verbose = False\n",
    ")\n",
    "print(steered)"
   ]
  },
  {
   "cell_type": "code",
   "execution_count": 86,
   "id": "f308fe7b-0adc-4ca6-9e37-f38a4ff1f8ea",
   "metadata": {},
   "outputs": [
    {
     "ename": "TypeError",
     "evalue": "HookedTransformer.forward() got an unexpected keyword argument 'loss'",
     "output_type": "error",
     "traceback": [
      "\u001b[0;31m---------------------------------------------------------------------------\u001b[0m",
      "\u001b[0;31mTypeError\u001b[0m                                 Traceback (most recent call last)",
      "Cell \u001b[0;32mIn[86], line 1\u001b[0m\n\u001b[0;32m----> 1\u001b[0m \u001b[43mmodel\u001b[49m\u001b[38;5;241;43m.\u001b[39;49m\u001b[43mllm\u001b[49m\u001b[38;5;241;43m.\u001b[39;49m\u001b[43mforward\u001b[49m\u001b[43m(\u001b[49m\u001b[43mprompt\u001b[49m\u001b[43m,\u001b[49m\u001b[43m \u001b[49m\u001b[43mloss\u001b[49m\u001b[38;5;241;43m=\u001b[39;49m\u001b[38;5;28;43;01mTrue\u001b[39;49;00m\u001b[43m,\u001b[49m\u001b[43m \u001b[49m\u001b[43mreturn_type\u001b[49m\u001b[38;5;241;43m=\u001b[39;49m\u001b[38;5;124;43m'\u001b[39;49m\u001b[38;5;124;43mboth\u001b[39;49m\u001b[38;5;124;43m'\u001b[39;49m\u001b[43m)\u001b[49m\n",
      "\u001b[0;31mTypeError\u001b[0m: HookedTransformer.forward() got an unexpected keyword argument 'loss'"
     ]
    }
   ],
   "source": [
    "model.llm.forward(prompt, loss=True, return_type='both')"
   ]
  },
  {
   "cell_type": "markdown",
   "id": "1611ce00-ca21-4af6-986b-c239f36b0a8a",
   "metadata": {},
   "source": [
    "# t test|"
   ]
  },
  {
   "cell_type": "code",
   "execution_count": 75,
   "id": "1c668c0e-db87-46d2-a13c-4035e36d79c9",
   "metadata": {},
   "outputs": [
    {
     "name": "stdout",
     "output_type": "stream",
     "text": [
      "Loaded pretrained model gpt2-small into HookedTransformer\n"
     ]
    }
   ],
   "source": [
    "model = FASG_Model()\n",
    "\n",
    "def get_steered_output(model, prompt, steering_vector):\n",
    "    steering_vector = steering_vector\n",
    "    \n",
    "    def steering_features(value, hook,steering_vector = steering_vector):\n",
    "        out = value + 0.1*steering_vector.unsqueeze(1)\n",
    "        return out\n",
    "    \n",
    "    fwd_hooks=[(\n",
    "        'blocks.8.hook_resid_pre', \n",
    "        steering_features\n",
    "    )]\n",
    "    \n",
    "    tokenized_prompt = model.llm.to_tokens(prompt)\n",
    "    with model.llm.hooks(fwd_hooks=fwd_hooks):\n",
    "        steered = model.llm.generate(\n",
    "        tokenized_prompt,\n",
    "        max_new_tokens=64,\n",
    "        temperature=0.2,\n",
    "        top_p=0.95,\n",
    "        stop_at_eos = True,\n",
    "        return_type = \"str\",\n",
    "        verbose = False\n",
    "    )\n",
    "    return steered"
   ]
  },
  {
   "cell_type": "code",
   "execution_count": 76,
   "id": "62f04018-4d92-4477-8713-d83186d07893",
   "metadata": {},
   "outputs": [],
   "source": [
    "from sentence_transformers import SentenceTransformer\n",
    "from sentence_transformers import util as st_util\n",
    "\n",
    "\n",
    "def get_cos_sim(st_model,text1,text2):\n",
    "    tokenized_inputs = st_model.tokenize(\n",
    "                [text1,text2])\n",
    "    for key in tokenized_inputs.keys():\n",
    "        tokenized_inputs[key] = tokenized_inputs[key].to(\"cuda:0\")\n",
    "    embeddings = st_model(tokenized_inputs)['sentence_embedding']\n",
    "    sim = st_util.cos_sim(embeddings[0], embeddings[1])\n",
    "    return sim"
   ]
  },
  {
   "cell_type": "code",
   "execution_count": 82,
   "id": "5f905c99-6c6a-40d8-bc1c-7868cd16ae75",
   "metadata": {},
   "outputs": [
    {
     "name": "stderr",
     "output_type": "stream",
     "text": [
      "100%|██████████| 100/100 [03:04<00:00,  1.84s/it]\n"
     ]
    }
   ],
   "source": [
    "# metrics\n",
    "from rouge_score import rouge_scorer\n",
    "scorer = rouge_scorer.RougeScorer(['rouge1', 'rouge2', 'rougeL'], use_stemmer=True)\n",
    "rouge_dict_control = {\"rouge1\":[],\n",
    "             \"rouge2\":[],\n",
    "             \"rougeL\":[]}\n",
    "\n",
    "rouge_dict_treatment = {\"rouge1\":[],\n",
    "             \"rouge2\":[],\n",
    "             \"rougeL\":[]}\n",
    "cos_sim_control = []\n",
    "cos_sim_treatment = []\n",
    "outputs = []\n",
    "\n",
    "# top 10 features\n",
    "top_features = [698, 734, 709, 719,  87, 112, 675, 679, 187, 445]\n",
    "num_steered_features = 5\n",
    "steering_strength = 6\n",
    "prompt_token_end = 5\n",
    "st_model = SentenceTransformer(\"all-MiniLM-L6-v2\")\n",
    "\n",
    "for sample in tqdm(trainset[:100]):\n",
    "    prompt = \" \".join(sample.split(\" \")[:prompt_token_end])\n",
    "\n",
    "    unsteered_reference = model.llm_generate(prompt)\n",
    "    unsteered_reference = \" \".join(unsteered_reference.split(\" \")[prompt_token_end:])\n",
    "\n",
    "    unsteered_control = model.llm_generate(prompt)\n",
    "    unsteered_control  = \" \".join(unsteered_control.split(\" \")[prompt_token_end:])\n",
    "    \n",
    "    steering_vec = np.zeros(768,dtype = np.float32)\n",
    "    steering_vec[top_features[:num_steered_features]] = steering_strength\n",
    "    steering_vec = torch.tensor(steering_vec).unsqueeze(0).to(\"cuda:0\")\n",
    "\n",
    "    delta_activation = model.sae.decode(steering_vec)\n",
    "    steered_output = get_steered_output(model, prompt,delta_activation)\n",
    "    steered_output = \" \".join(steered_output.split(\" \")[prompt_token_end:])\n",
    "    \n",
    "    outputs.append((unsteered_reference,steered_output))\n",
    "\n",
    "    # rouge\n",
    "    rouge_scores_treatment = scorer.score(unsteered_reference, steered_output)\n",
    "    for key in rouge_dict_treatment.keys():\n",
    "        rouge_dict_treatment[key].append(rouge_scores_treatment[key].fmeasure)\n",
    "\n",
    "    rouge_scores_control = scorer.score(unsteered_reference, unsteered_control)\n",
    "    for key in rouge_dict_control.keys():\n",
    "        rouge_dict_control[key].append(rouge_scores_control[key].fmeasure)\n",
    "    \n",
    "\n",
    "    # cos sim\n",
    "    cos_sim_control.append(get_cos_sim(st_model,unsteered_output,unsteered_control).cpu().detach().numpy()[0][0])\n",
    "    cos_sim_treatment.append(get_cos_sim(st_model,unsteered_output,steered_output).cpu().detach().numpy()[0][0])"
   ]
  },
  {
   "cell_type": "code",
   "execution_count": 78,
   "id": "5f9f23fe-26fa-4c39-9195-0f121643c24c",
   "metadata": {},
   "outputs": [
    {
     "data": {
      "text/plain": [
       "(array([ 3., 15., 22., 22., 12.,  9.,  5.,  4.,  4.,  4.]),\n",
       " array([0. , 0.1, 0.2, 0.3, 0.4, 0.5, 0.6, 0.7, 0.8, 0.9, 1. ]),\n",
       " <BarContainer object of 10 artists>)"
      ]
     },
     "execution_count": 78,
     "metadata": {},
     "output_type": "execute_result"
    },
    {
     "data": {
      "image/png": "[encoded data removed]",
      "text/plain": [
       "<Figure size 1600x900 with 4 Axes>"
      ]
     },
     "metadata": {},
     "output_type": "display_data"
    }
   ],
   "source": [
    "fig, axs = plt.subplots(2,2,figsize=(16,9))\n",
    "axs[0, 0].set_title('Cosine Similarity')\n",
    "axs[0,0].hist(cos_sim_treatment,alpha = 0.5)\n",
    "axs[0,0].hist(cos_sim_control,alpha = 0.5)\n",
    "\n",
    "axs[0, 1].set_title('Rouge1')\n",
    "axs[0,1].hist(rouge_dict_treatment['rouge1'],alpha = 0.5)\n",
    "axs[0,1].hist(rouge_dict_control['rouge1'],alpha = 0.5)\n",
    "\n",
    "axs[1, 0].set_title('Rouge2')\n",
    "axs[1,0].hist(rouge_dict_treatment['rouge2'],alpha = 0.5)\n",
    "axs[1,0].hist(rouge_dict_control['rouge2'],alpha = 0.5)\n",
    "\n",
    "axs[1, 1].set_title('RougeL')\n",
    "axs[1,1].hist(rouge_dict_treatment['rougeL'],alpha = 0.5)\n",
    "axs[1,1].hist(rouge_dict_control['rougeL'],alpha = 0.5)"
   ]
  },
  {
   "cell_type": "code",
   "execution_count": 83,
   "id": "66d12a48-618e-42ab-b0a2-ba925d0c1009",
   "metadata": {},
   "outputs": [
    {
     "name": "stdout",
     "output_type": "stream",
     "text": [
      "cos sim\n",
      "P-value: 0.58852087944595\n",
      "rouge1\n",
      "P-value: 0.36371874785186564\n",
      "rouge2\n",
      "P-value: 0.39178001136797513\n",
      "rougeL\n",
      "P-value: 0.2593260492575281\n"
     ]
    }
   ],
   "source": [
    "import scipy.stats as stats\n",
    "\n",
    "# Perform the one-sample t-test\n",
    "print(\"cos sim\")\n",
    "t_statistic, p_value = stats.ttest_rel(cos_sim_control,cos_sim_treatment)\n",
    "\n",
    "print(\"P-value:\", p_value)\n",
    "\n",
    "for key in rouge_dict_control.keys():\n",
    "    print(key)\n",
    "    t_statistic, p_value = stats.ttest_rel(rouge_dict_control[key],rouge_dict_treatment[key])\n",
    "    print(\"P-value:\", p_value)\n",
    "    \n",
    "\n"
   ]
  },
  {
   "cell_type": "code",
   "execution_count": 67,
   "id": "6da2869d-6853-4f8d-9450-3e6ec3409074",
   "metadata": {},
   "outputs": [
    {
     "data": {
      "text/plain": [
       "[0.16666666666666669,\n",
       " 0.06837606837606838,\n",
       " 0.13559322033898305,\n",
       " 0.24561403508771928,\n",
       " 0.3584905660377358,\n",
       " 0.24000000000000002,\n",
       " 0.05309734513274336,\n",
       " 0.22857142857142856,\n",
       " 0.08,\n",
       " 0.03738317757009346,\n",
       " 0.08547008547008547,\n",
       " 0.12280701754385964,\n",
       " 0.5470085470085471,\n",
       " 0.39655172413793105,\n",
       " 0.14545454545454545,\n",
       " 0.08,\n",
       " 0.4587155963302752,\n",
       " 0.24528301886792453,\n",
       " 0.36363636363636365,\n",
       " 0.0,\n",
       " 0.08080808080808081,\n",
       " 0.52,\n",
       " 0.17094017094017094,\n",
       " 0.4888888888888889,\n",
       " 0.07476635514018691,\n",
       " 0.0,\n",
       " 0.22018348623853212,\n",
       " 0.16867469879518074,\n",
       " 0.18181818181818182,\n",
       " 0.05555555555555556,\n",
       " 0.06122448979591836,\n",
       " 0.055045871559633024,\n",
       " 0.27956989247311825,\n",
       " 0.09259259259259259,\n",
       " 0.14545454545454545,\n",
       " 0.6722689075630253,\n",
       " 0.12612612612612611,\n",
       " 0.34951456310679613,\n",
       " 0.018348623853211007,\n",
       " 0.058823529411764705,\n",
       " 0.020618556701030927,\n",
       " 0.6,\n",
       " 1.0,\n",
       " 0.025974025974025976,\n",
       " 0.10526315789473685,\n",
       " 0.0,\n",
       " 0.3076923076923077,\n",
       " 0.24761904761904763,\n",
       " 0.023529411764705882,\n",
       " 0.0,\n",
       " 0.01639344262295082,\n",
       " 0.5252525252525253,\n",
       " 0.15384615384615385,\n",
       " 0.6851851851851852,\n",
       " 0.37500000000000006,\n",
       " 0.07339449541284403,\n",
       " 0.02197802197802198,\n",
       " 0.16216216216216214,\n",
       " 0.1038961038961039,\n",
       " 0.5199999999999999,\n",
       " 0.22916666666666663,\n",
       " 0.09615384615384616,\n",
       " 0.2641509433962264,\n",
       " 0.3148148148148148,\n",
       " 0.41818181818181815,\n",
       " 0.10434782608695652,\n",
       " 0.1391304347826087,\n",
       " 0.01851851851851852,\n",
       " 0.38461538461538464,\n",
       " 0.10638297872340426,\n",
       " 0.14545454545454545,\n",
       " 0.07692307692307691,\n",
       " 0.7045454545454547,\n",
       " 0.625,\n",
       " 0.5192307692307693,\n",
       " 0.11111111111111112,\n",
       " 0.7636363636363637,\n",
       " 0.8771929824561403,\n",
       " 0.0,\n",
       " 0.21238938053097345,\n",
       " 0.125,\n",
       " 0.20224719101123598,\n",
       " 0.1923076923076923,\n",
       " 0.4035087719298246,\n",
       " 0.0,\n",
       " 0.24242424242424243,\n",
       " 0.049999999999999996,\n",
       " 0.27450980392156865,\n",
       " 0.2376237623762376,\n",
       " 0.03571428571428572,\n",
       " 0.01724137931034483,\n",
       " 0.0,\n",
       " 0.09615384615384615,\n",
       " 0.2909090909090909,\n",
       " 0.10526315789473684,\n",
       " 0.28571428571428575,\n",
       " 0.27272727272727276,\n",
       " 0.31932773109243695,\n",
       " 0.06185567010309278,\n",
       " 0.34234234234234234]"
      ]
     },
     "execution_count": 67,
     "metadata": {},
     "output_type": "execute_result"
    }
   ],
   "source": [
    "rouge_dict_control['rouge2']"
   ]
  }
 ],
 "metadata": {
  "kernelspec": {
   "display_name": "Small Data",
   "language": "python",
   "name": "small-data"
  },
  "language_info": {
   "codemirror_mode": {
    "name": "ipython",
    "version": 3
   },
   "file_extension": ".py",
   "mimetype": "text/x-python",
   "name": "python",
   "nbconvert_exporter": "python",
   "pygments_lexer": "ipython3",
   "version": "3.11.10"
  }
 },
 "nbformat": 4,
 "nbformat_minor": 5
}
